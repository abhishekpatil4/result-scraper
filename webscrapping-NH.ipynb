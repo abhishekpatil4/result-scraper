{
 "cells": [
  {
   "cell_type": "code",
   "execution_count": 1,
   "metadata": {},
   "outputs": [],
   "source": [
    "Tirupati hotel \n",
    "\n",
    "\n",
    "Republic Inn (2km, 2.6k): https://www.agoda.com/republic-inn/hotel/tirupati-in.html?finalPriceView=1&isShowMobileAppPrice=false&cid=1897343&numberOfBedrooms=&familyMode=false&adults=5&children=0&rooms=2&maxRooms=0&checkIn=2024-03-30&isCalendarCallout=false&childAges=&numberOfGuest=0&missingChildAges=false&travellerType=3&showReviewSubmissionEntry=false&currencyCode=INR&isFreeOccSearch=false&isCityHaveAsq=false&tspTypes=2%2C8&los=1&searchrequestid=0a7d1e60-e04f-4bd4-95e4-5981210797fa&ds=bAtYDkQBzlKgd4lH\n",
    "\n",
    "\n",
    "DLR GRAND(4km, 2.2k) : https://www.agoda.com/dlr-grand/hotel/tirupati-in.html?finalPriceView=1&isShowMobileAppPrice=false&cid=1897343&numberOfBedrooms=&familyMode=false&adults=5&children=0&rooms=2&maxRooms=0&checkIn=2024-03-30&isCalendarCallout=false&childAges=&numberOfGuest=0&missingChildAges=false&travellerType=3&showReviewSubmissionEntry=false&currencyCode=INR&isFreeOccSearch=false&isCityHaveAsq=false&tspTypes=6&los=1&searchrequestid=0a7d1e60-e04f-4bd4-95e4-5981210797fa&ds=bAtYDkQBzlKgd4lH \n",
    "\n",
    "Hotel Mookambika Comforts(3km, 1.1k): https://www.agoda.com/hotel-mookambika-comforts/hotel/tirupati-in.html?finalPriceView=1&isShowMobileAppPrice=false&cid=1897343&numberOfBedrooms=&familyMode=false&adults=5&children=0&rooms=2&maxRooms=0&checkIn=2024-03-30&isCalendarCallout=false&childAges=&numberOfGuest=0&missingChildAges=false&travellerType=3&showReviewSubmissionEntry=false&currencyCode=INR&isFreeOccSearch=false&isCityHaveAsq=false&tspTypes=2&los=1&searchrequestid=0a7d1e60-e04f-4bd4-95e4-5981210797fa&ds=bAtYDkQBzlKgd4lH \n",
    "\n",
    "Hotel Renest Tirupati(4km, 2.8k): https://www.agoda.com/keys-select-hotel-vihas-tirupati_2/hotel/tirupati-in.html?finalPriceView=1&isShowMobileAppPrice=false&cid=1897343&numberOfBedrooms=&familyMode=false&adults=5&children=0&rooms=2&maxRooms=0&checkIn=2024-03-30&isCalendarCallout=false&childAges=&numberOfGuest=0&missingChildAges=false&travellerType=3&showReviewSubmissionEntry=false&currencyCode=INR&isFreeOccSearch=false&isCityHaveAsq=false&tspTypes=2&los=1&searchrequestid=0a7d1e60-e04f-4bd4-95e4-5981210797fa&ds=bAtYDkQBzlKgd4lH \n",
    "\n",
    "Hotel Elite Park(3km, 1.4k): https://www.agoda.com/hotel-elite-park/hotel/tirupati-in.html?finalPriceView=1&isShowMobileAppPrice=false&cid=1897343&numberOfBedrooms=&familyMode=false&adults=5&children=0&rooms=2&maxRooms=0&checkIn=2024-03-30&isCalendarCallout=false&childAges=&numberOfGuest=0&missingChildAges=false&travellerType=3&showReviewSubmissionEntry=false&currencyCode=INR&isFreeOccSearch=false&isCityHaveAsq=false&los=1&searchrequestid=0a7d1e60-e04f-4bd4-95e4-5981210797fa&ds=bAtYDkQBzlKgd4lH "
   ]
  },
  {
   "cell_type": "code",
   "execution_count": 3,
   "metadata": {},
   "outputs": [
    {
     "name": "stdout",
     "output_type": "stream",
     "text": [
      "\u001b[33mDEPRECATION: Configuring installation scheme with distutils config files is deprecated and will no longer work in the near future. If you are using a Homebrew or Linuxbrew Python, please see discussion at https://github.com/Homebrew/homebrew-core/issues/76621\u001b[0m\u001b[33m\n",
      "\u001b[0mCollecting selenium\n",
      "  Downloading selenium-4.16.0-py3-none-any.whl.metadata (6.9 kB)\n",
      "Collecting urllib3<3,>=1.26 (from urllib3[socks]<3,>=1.26->selenium)\n",
      "  Downloading urllib3-2.1.0-py3-none-any.whl.metadata (6.4 kB)\n",
      "Collecting trio~=0.17 (from selenium)\n",
      "  Downloading trio-0.24.0-py3-none-any.whl.metadata (4.9 kB)\n",
      "Collecting trio-websocket~=0.9 (from selenium)\n",
      "  Downloading trio_websocket-0.11.1-py3-none-any.whl.metadata (4.7 kB)\n",
      "Requirement already satisfied: certifi>=2021.10.8 in /usr/local/lib/python3.9/site-packages (from selenium) (2022.6.15)\n",
      "Requirement already satisfied: attrs>=20.1.0 in /usr/local/lib/python3.9/site-packages (from trio~=0.17->selenium) (21.4.0)\n",
      "Collecting sortedcontainers (from trio~=0.17->selenium)\n",
      "  Downloading sortedcontainers-2.4.0-py2.py3-none-any.whl (29 kB)\n",
      "Requirement already satisfied: idna in /usr/local/lib/python3.9/site-packages (from trio~=0.17->selenium) (3.3)\n",
      "Collecting outcome (from trio~=0.17->selenium)\n",
      "  Downloading outcome-1.3.0.post0-py2.py3-none-any.whl.metadata (2.6 kB)\n",
      "Requirement already satisfied: sniffio>=1.3.0 in /usr/local/lib/python3.9/site-packages (from trio~=0.17->selenium) (1.3.0)\n",
      "Collecting exceptiongroup (from trio~=0.17->selenium)\n",
      "  Downloading exceptiongroup-1.2.0-py3-none-any.whl.metadata (6.6 kB)\n",
      "Collecting wsproto>=0.14 (from trio-websocket~=0.9->selenium)\n",
      "  Downloading wsproto-1.2.0-py3-none-any.whl (24 kB)\n",
      "Requirement already satisfied: pysocks!=1.5.7,<2.0,>=1.5.6 in /usr/local/lib/python3.9/site-packages (from urllib3[socks]<3,>=1.26->selenium) (1.7.1)\n",
      "Requirement already satisfied: h11<1,>=0.9.0 in /usr/local/lib/python3.9/site-packages (from wsproto>=0.14->trio-websocket~=0.9->selenium) (0.14.0)\n",
      "Downloading selenium-4.16.0-py3-none-any.whl (10.0 MB)\n",
      "\u001b[2K   \u001b[90m━━━━━━━━━━━━━━━━━━━━━━━━━━━━━━━━━━━━━━━━\u001b[0m \u001b[32m10.0/10.0 MB\u001b[0m \u001b[31m633.6 kB/s\u001b[0m eta \u001b[36m0:00:00\u001b[0m00:01\u001b[0m0:01\u001b[0m\n",
      "\u001b[?25hDownloading trio-0.24.0-py3-none-any.whl (460 kB)\n",
      "\u001b[2K   \u001b[90m━━━━━━━━━━━━━━━━━━━━━━━━━━━━━━━━━━━━━━━\u001b[0m \u001b[32m460.2/460.2 kB\u001b[0m \u001b[31m555.7 kB/s\u001b[0m eta \u001b[36m0:00:00\u001b[0ma \u001b[36m0:00:01\u001b[0m\n",
      "\u001b[?25hDownloading trio_websocket-0.11.1-py3-none-any.whl (17 kB)\n",
      "Downloading urllib3-2.1.0-py3-none-any.whl (104 kB)\n",
      "\u001b[2K   \u001b[90m━━━━━━━━━━━━━━━━━━━━━━━━━━━━━━━━━━━━━━━\u001b[0m \u001b[32m104.6/104.6 kB\u001b[0m \u001b[31m511.7 kB/s\u001b[0m eta \u001b[36m0:00:00\u001b[0ma \u001b[36m0:00:01\u001b[0m\n",
      "\u001b[?25hDownloading exceptiongroup-1.2.0-py3-none-any.whl (16 kB)\n",
      "Downloading outcome-1.3.0.post0-py2.py3-none-any.whl (10 kB)\n",
      "Installing collected packages: sortedcontainers, wsproto, urllib3, outcome, exceptiongroup, trio, trio-websocket, selenium\n",
      "\u001b[33m  DEPRECATION: Configuring installation scheme with distutils config files is deprecated and will no longer work in the near future. If you are using a Homebrew or Linuxbrew Python, please see discussion at https://github.com/Homebrew/homebrew-core/issues/76621\u001b[0m\u001b[33m\n",
      "\u001b[0m\u001b[33m  DEPRECATION: Configuring installation scheme with distutils config files is deprecated and will no longer work in the near future. If you are using a Homebrew or Linuxbrew Python, please see discussion at https://github.com/Homebrew/homebrew-core/issues/76621\u001b[0m\u001b[33m\n",
      "\u001b[0m  Attempting uninstall: urllib3\n",
      "    Found existing installation: urllib3 1.25.11\n",
      "    Uninstalling urllib3-1.25.11:\n",
      "      Successfully uninstalled urllib3-1.25.11\n",
      "\u001b[33m  DEPRECATION: Configuring installation scheme with distutils config files is deprecated and will no longer work in the near future. If you are using a Homebrew or Linuxbrew Python, please see discussion at https://github.com/Homebrew/homebrew-core/issues/76621\u001b[0m\u001b[33m\n",
      "\u001b[0m\u001b[33m  DEPRECATION: Configuring installation scheme with distutils config files is deprecated and will no longer work in the near future. If you are using a Homebrew or Linuxbrew Python, please see discussion at https://github.com/Homebrew/homebrew-core/issues/76621\u001b[0m\u001b[33m\n",
      "\u001b[0m\u001b[33m  DEPRECATION: Configuring installation scheme with distutils config files is deprecated and will no longer work in the near future. If you are using a Homebrew or Linuxbrew Python, please see discussion at https://github.com/Homebrew/homebrew-core/issues/76621\u001b[0m\u001b[33m\n",
      "\u001b[0m\u001b[33m  DEPRECATION: Configuring installation scheme with distutils config files is deprecated and will no longer work in the near future. If you are using a Homebrew or Linuxbrew Python, please see discussion at https://github.com/Homebrew/homebrew-core/issues/76621\u001b[0m\u001b[33m\n",
      "\u001b[0m\u001b[33m  DEPRECATION: Configuring installation scheme with distutils config files is deprecated and will no longer work in the near future. If you are using a Homebrew or Linuxbrew Python, please see discussion at https://github.com/Homebrew/homebrew-core/issues/76621\u001b[0m\u001b[33m\n",
      "\u001b[0m\u001b[33m  DEPRECATION: Configuring installation scheme with distutils config files is deprecated and will no longer work in the near future. If you are using a Homebrew or Linuxbrew Python, please see discussion at https://github.com/Homebrew/homebrew-core/issues/76621\u001b[0m\u001b[33m\n",
      "\u001b[0m\u001b[33mDEPRECATION: Configuring installation scheme with distutils config files is deprecated and will no longer work in the near future. If you are using a Homebrew or Linuxbrew Python, please see discussion at https://github.com/Homebrew/homebrew-core/issues/76621\u001b[0m\u001b[33m\n",
      "\u001b[0m\u001b[31mERROR: pip's dependency resolver does not currently take into account all the packages that are installed. This behaviour is the source of the following dependency conflicts.\n",
      "google-auth 2.22.0 requires urllib3<2.0, but you have urllib3 2.1.0 which is incompatible.\n",
      "requests 2.28.1 requires urllib3<1.27,>=1.21.1, but you have urllib3 2.1.0 which is incompatible.\n",
      "tensorflow 2.13.0 requires protobuf!=4.21.0,!=4.21.1,!=4.21.2,!=4.21.3,!=4.21.4,!=4.21.5,<5.0.0dev,>=3.20.3, but you have protobuf 3.20.0 which is incompatible.\n",
      "tensorflowjs 3.18.0 requires packaging~=20.9, but you have packaging 21.3 which is incompatible.\n",
      "tflite-model-maker 0.3.4 requires flatbuffers==1.12, but you have flatbuffers 23.5.26 which is incompatible.\n",
      "tflite-model-maker 0.3.4 requires urllib3!=1.25.0,!=1.25.1,<1.26,>=1.21.1, but you have urllib3 2.1.0 which is incompatible.\n",
      "tflite-model-maker-nightly 0.3.5.dev202205040508 requires flatbuffers==1.12, but you have flatbuffers 23.5.26 which is incompatible.\n",
      "tflite-model-maker-nightly 0.3.5.dev202205040508 requires urllib3!=1.25.0,!=1.25.1,<1.26,>=1.21.1, but you have urllib3 2.1.0 which is incompatible.\u001b[0m\u001b[31m\n",
      "\u001b[0mSuccessfully installed exceptiongroup-1.2.0 outcome-1.3.0.post0 selenium-4.16.0 sortedcontainers-2.4.0 trio-0.24.0 trio-websocket-0.11.1 urllib3-2.1.0 wsproto-1.2.0\n",
      "\n",
      "\u001b[1m[\u001b[0m\u001b[34;49mnotice\u001b[0m\u001b[1;39;49m]\u001b[0m\u001b[39;49m A new release of pip is available: \u001b[0m\u001b[31;49m23.3.1\u001b[0m\u001b[39;49m -> \u001b[0m\u001b[32;49m23.3.2\u001b[0m\n",
      "\u001b[1m[\u001b[0m\u001b[34;49mnotice\u001b[0m\u001b[1;39;49m]\u001b[0m\u001b[39;49m To update, run: \u001b[0m\u001b[32;49mpython3.9 -m pip install --upgrade pip\u001b[0m\n"
     ]
    }
   ],
   "source": [
    "!pip install selenium"
   ]
  },
  {
   "cell_type": "code",
   "execution_count": 2,
   "metadata": {},
   "outputs": [],
   "source": [
    "from selenium import webdriver"
   ]
  },
  {
   "cell_type": "code",
   "execution_count": 3,
   "metadata": {},
   "outputs": [],
   "source": [
    "import time"
   ]
  },
  {
   "cell_type": "code",
   "execution_count": 5,
   "metadata": {},
   "outputs": [],
   "source": [
    "#You need to have Chrome driver downloaded in your computer\n",
    "#http://chromedriver.chromium.org/\n",
    "\n",
    "#You need to have driver corresponding to your Google Chrome browser or update browser\n",
    "from selenium.webdriver.common.by import By"
   ]
  },
  {
   "cell_type": "code",
   "execution_count": 38,
   "metadata": {},
   "outputs": [],
   "source": [
    "#this generates USNs from 1 to 330 \n",
    "#If your branch is different then you can change the branch code such as BEC,BCV etc\n",
    "# usns=['1NH20CV075']\n",
    "# usns=['1NH20CV075']\n",
    "usns=['1NH21CV400','1NH21CV401','1NH21CV402','1NH21CV403','1NH21CV404','1NH21CV405','1NH21CV406','1NH21CV407','1NH21CV408','1NH21CV409','1NH21CV410','1NH21CV411','1NH21CV412']\n",
    "\n",
    "# for i in range(0,95):\n",
    "#     if i<=9:\n",
    "#         usn='1NH20CV00'+str(i)\n",
    "#     elif i>=10 and i<=99:\n",
    "#         usn='1NH20CV0'+str(i)\n",
    "#     else:\n",
    "#         usn='1NH20CV'+str(i)\n",
    "#     usns.append(usn)\n",
    "\n",
    "#For Diploma students\n",
    "# for i in range(400,412):\n",
    "#     if i<=9:\n",
    "#         usn='1NH21CV00'+str(i)\n",
    "#     elif i>=10 and i<=99:\n",
    "#         usn='1NH21CV0'+str(i)\n",
    "#     usns.append(usn)"
   ]
  },
  {
   "cell_type": "markdown",
   "metadata": {},
   "source": [
    "### Run the cell below and wait until Google Chrome opens "
   ]
  },
  {
   "cell_type": "code",
   "execution_count": 28,
   "metadata": {},
   "outputs": [],
   "source": [
    "url=\"https://eresults.newhorizonindia.edu\"\n",
    "\n",
    "#This is the path name of chrome driver on my PC\n",
    "# driver = webdriver.Chrome(\"/Users/anandsagar/Downloads/chromedriver_mac_arm64 (2)/chromedriver\")\n",
    "driver = webdriver.Chrome()\n",
    "\n",
    "driver.get(url)\n",
    "driver.maximize_window()"
   ]
  },
  {
   "cell_type": "markdown",
   "metadata": {},
   "source": [
    "### When website Opens then change the captcha below and run the cell\n",
    "\n",
    "### My college website has a glitch that its captcha doesn't change if we navigate back on the website"
   ]
  },
  {
   "cell_type": "code",
   "execution_count": 29,
   "metadata": {},
   "outputs": [],
   "source": [
    "#put the captcha as shown in website and run this cell\n",
    "captcha=\"EQB9A\" #this was the current captcha when I was using"
   ]
  },
  {
   "cell_type": "code",
   "execution_count": 39,
   "metadata": {},
   "outputs": [],
   "source": [
    "file=open('New_Horizon_diploma.csv','a') #This is the file in which I am storing Name and SGPA"
   ]
  },
  {
   "cell_type": "code",
   "execution_count": 40,
   "metadata": {},
   "outputs": [
    {
     "name": "stdout",
     "output_type": "stream",
     "text": [
      "ABHIRAM V\n",
      "8.24\n",
      "7.54\n",
      "ESTIMATION & VALUATION\n",
      "C\n",
      "Probably had a back\n",
      "Error in sgpa, maybe multiple results are there\n",
      "unable to find SGPA\n",
      "DARSHAN V\n",
      "8.15\n",
      "7.39\n",
      "ESTIMATION & VALUATION\n",
      "C\n",
      "DILEEPKUMAR S\n",
      "7.26\n",
      "7.48\n",
      "ESTIMATION & VALUATION\n",
      "E\n",
      "GURUSWAMY\n",
      "6.72\n",
      "6.65\n",
      "ESTIMATION & VALUATION\n",
      "E\n",
      "MAHESH GOWDA M R\n",
      "8.96\n",
      "8.07\n",
      "ESTIMATION & VALUATION\n",
      "B\n",
      "NARESH KUMAR MALLIK\n",
      "7.91\n",
      "6.83\n",
      "ESTIMATION & VALUATION\n",
      "D\n",
      "NITHIN KUMAR H K\n",
      "8.02\n",
      "7.03\n",
      "ESTIMATION & VALUATION\n",
      "B\n",
      "PAVAN L P\n",
      "3.46\n",
      "6.57\n",
      "ESTIMATION & VALUATION\n",
      "F\n",
      "ROHAN R NAYAK\n",
      "8.22\n",
      "7.32\n",
      "ESTIMATION & VALUATION\n",
      "C\n",
      "SACHIN NAYAK\n",
      "7.13\n",
      "7.08\n",
      "ESTIMATION & VALUATION\n",
      "C\n",
      "SHYLESH L\n",
      "7.83\n",
      "7.10\n",
      "ESTIMATION & VALUATION\n",
      "D\n",
      "Probably had a back\n",
      "Error in sgpa, maybe multiple results are there\n",
      "unable to find SGPA\n"
     ]
    }
   ],
   "source": [
    "#For each USN I am scrapping the details\n",
    "for username in usns:\n",
    "    driver.find_element(by=By.NAME,value=\"usn\").send_keys(username)\n",
    "    driver.find_element(by=By.NAME,value=\"osolCatchaTxt\").send_keys(captcha)\n",
    "\n",
    "    # driver.find_element_by_formaction(\"index.php?option=com_examresult&task=getResult\").click()\n",
    "    # driver.find_element(By.XPATH, '//button[text()=\"Result\"]').click()\n",
    "    driver.find_element(By.CLASS_NAME, 'buttongo').click()\n",
    "\n",
    "\n",
    "    #I am handling the exception because there are certain USNs whose result is not declared or some USNs don't exist\n",
    "    \n",
    "    #to get name\n",
    "    try:\n",
    "        #This //div..... may change depending on what you are trying to scrap\n",
    "        name=driver.find_element(By.XPATH,'//div[contains(@class,\"uk-card uk-card-body stu-data stu-data1\")]')\n",
    "        print(name.text) #optional\n",
    "        \n",
    "    except:\n",
    "        print(\"Probably had a back\")\n",
    "    \n",
    "    \n",
    "    try:\n",
    "        sgpa=driver.find_element(By.XPATH,'//div[contains(@class,\"uk-card uk-card-default uk-card-body credits-sec3\")]')\n",
    "        sgpa=driver.find_element(By.XPATH,'//div[contains(@class,\"uk-card uk-card-default uk-card-body credits-sec3\")]')\n",
    "        cgpa=driver.find_element(By.XPATH,'//div[contains(@class,\"uk-card uk-card-default uk-card-body credits-sec4\")]')\n",
    "        sub=driver.find_element(By.XPATH,'/html/body/div[2]/div/div/div[3]/div[3]/div/div/div[1]/div/div/div/div/table/tbody/tr[3]/td[2]')\n",
    "        grade=driver.find_element(By.XPATH,'/html/body/div[2]/div/div/div[3]/div[3]/div/div/div[1]/div/div/div/div/table/tbody/tr[3]/td[5]')\n",
    "        print(sgpa.text[5:]) #Since the extracted data has SGPA as suffix but we need to store only numerical part\n",
    "        print(cgpa.text[5:]) #Since the extracted data has SGPA as suffix but we need to store only numerical part\n",
    "        print(sub.text)\n",
    "        print(grade.text)\n",
    "        file.write('\\n'+(username)+','+(name.text)+','+(sgpa.text[5:])+','+(cgpa.text[5:])+','+(sub.text)+','+(grade.text))\n",
    "    except:\n",
    "        print(\"Error in sgpa, maybe multiple results are there\")\n",
    "        #to click on latest result if not already \n",
    "        try:\n",
    "            parent_element = driver.find_element(By.XPATH, '/html/body/div[2]/div/div/div[4]/div')\n",
    "            last_div = parent_element.find_element(By.XPATH, './div[last()]')\n",
    "            inner_div = last_div.find_element(By.TAG_NAME, 'div')\n",
    "            second_div = inner_div.find_element(By.XPATH, './div[2]')\n",
    "            input_element = second_div.find_element(By.XPATH, './/a/input')\n",
    "            input_element.click()\n",
    "            name=driver.find_element(By.XPATH,'//div[contains(@class,\"uk-card uk-card-body stu-data stu-data1\")]')\n",
    "            sgpa=driver.find_element(By.XPATH,'//div[contains(@class,\"uk-card uk-card-default uk-card-body credits-sec3\")]')\n",
    "            cgpa=driver.find_element(By.XPATH,'//div[contains(@class,\"uk-card uk-card-default uk-card-body credits-sec4\")]')\n",
    "            sub=driver.find_element(By.XPATH,'/html/body/div[2]/div/div/div[3]/div[3]/div/div/div[1]/div/div/div/div/table/tbody/tr[3]/td[2]')\n",
    "            grade=driver.find_element(By.XPATH,'/html/body/div[2]/div/div/div[3]/div[3]/div/div/div[1]/div/div/div/div/table/tbody/tr[3]/td[5]')\n",
    "            print(sgpa.text[5:]) #Since the extracted data has SGPA as suffix but we need to store only numerical part\n",
    "            print(cgpa.text[5:]) #Since the extracted data has SGPA as suffix but we need to store only numerical part\n",
    "            print(sub.text)\n",
    "            print(sub.text)\n",
    "            print(grade.text)\n",
    "            file.write('\\n'+(username)+','+(name.text)+','+(sgpa.text[5:])+','+(cgpa.text[5:])+','+(sub.text)+','+(grade.text))\n",
    "        except:\n",
    "            print(\"unable to find SGPA\")\n",
    "        \n",
    "        \n",
    "#     driver.back() #navigating back by clicking back button\n",
    "    while True:\n",
    "        try:\n",
    "            # Attempt to find the element with the specified XPath\n",
    "            element = driver.find_element(By.XPATH, '/html/body/div/div/div/div/div/table/tbody/tr[11]/td/div/form/table/tbody/tr[1]/td[1]')\n",
    "            # If found, break out of the loop\n",
    "            break\n",
    "        except:\n",
    "            # If the element is not found, navigate back and continue the loop\n",
    "            driver.back()\n",
    "\n",
    "    driver.find_element(by=By.NAME,value=\"usn\").clear() #clearing the already filled detail\n",
    "    driver.find_element(by=By.NAME,value=\"osolCatchaTxt\").clear() #Clearing the CAPTCHA field as it will be Entered aagain"
   ]
  },
  {
   "cell_type": "code",
   "execution_count": 41,
   "metadata": {},
   "outputs": [],
   "source": [
    "file.close() #closing the file"
   ]
  },
  {
   "cell_type": "code",
   "execution_count": 20,
   "metadata": {},
   "outputs": [
    {
     "ename": "IndexError",
     "evalue": "list index out of range",
     "output_type": "error",
     "traceback": [
      "\u001b[0;31m---------------------------------------------------------------------------\u001b[0m",
      "\u001b[0;31mIndexError\u001b[0m                                Traceback (most recent call last)",
      "Input \u001b[0;32mIn [20]\u001b[0m, in \u001b[0;36m<cell line: 9>\u001b[0;34m()\u001b[0m\n\u001b[1;32m      6\u001b[0m     data \u001b[38;5;241m=\u001b[39m \u001b[38;5;28mlist\u001b[39m(reader)  \u001b[38;5;66;03m# Convert the data into a list of lists\u001b[39;00m\n\u001b[1;32m      8\u001b[0m \u001b[38;5;66;03m# Sort the data based on the first column (index 0) as strings\u001b[39;00m\n\u001b[0;32m----> 9\u001b[0m sorted_data \u001b[38;5;241m=\u001b[39m \u001b[38;5;28;43msorted\u001b[39;49m\u001b[43m(\u001b[49m\u001b[43mdata\u001b[49m\u001b[43m,\u001b[49m\u001b[43m \u001b[49m\u001b[43mkey\u001b[49m\u001b[38;5;241;43m=\u001b[39;49m\u001b[38;5;28;43;01mlambda\u001b[39;49;00m\u001b[43m \u001b[49m\u001b[43mx\u001b[49m\u001b[43m:\u001b[49m\u001b[43m \u001b[49m\u001b[43mx\u001b[49m\u001b[43m[\u001b[49m\u001b[38;5;241;43m0\u001b[39;49m\u001b[43m]\u001b[49m\u001b[43m)\u001b[49m\n\u001b[1;32m     11\u001b[0m \u001b[38;5;66;03m# Save the sorted data to a new CSV file\u001b[39;00m\n\u001b[1;32m     12\u001b[0m \u001b[38;5;28;01mwith\u001b[39;00m \u001b[38;5;28mopen\u001b[39m(\u001b[38;5;124m'\u001b[39m\u001b[38;5;124m7sem.csv\u001b[39m\u001b[38;5;124m'\u001b[39m, \u001b[38;5;124m'\u001b[39m\u001b[38;5;124mw\u001b[39m\u001b[38;5;124m'\u001b[39m, newline\u001b[38;5;241m=\u001b[39m\u001b[38;5;124m'\u001b[39m\u001b[38;5;124m'\u001b[39m) \u001b[38;5;28;01mas\u001b[39;00m outfile:\n",
      "Input \u001b[0;32mIn [20]\u001b[0m, in \u001b[0;36m<lambda>\u001b[0;34m(x)\u001b[0m\n\u001b[1;32m      6\u001b[0m     data \u001b[38;5;241m=\u001b[39m \u001b[38;5;28mlist\u001b[39m(reader)  \u001b[38;5;66;03m# Convert the data into a list of lists\u001b[39;00m\n\u001b[1;32m      8\u001b[0m \u001b[38;5;66;03m# Sort the data based on the first column (index 0) as strings\u001b[39;00m\n\u001b[0;32m----> 9\u001b[0m sorted_data \u001b[38;5;241m=\u001b[39m \u001b[38;5;28msorted\u001b[39m(data, key\u001b[38;5;241m=\u001b[39m\u001b[38;5;28;01mlambda\u001b[39;00m x: \u001b[43mx\u001b[49m\u001b[43m[\u001b[49m\u001b[38;5;241;43m0\u001b[39;49m\u001b[43m]\u001b[49m)\n\u001b[1;32m     11\u001b[0m \u001b[38;5;66;03m# Save the sorted data to a new CSV file\u001b[39;00m\n\u001b[1;32m     12\u001b[0m \u001b[38;5;28;01mwith\u001b[39;00m \u001b[38;5;28mopen\u001b[39m(\u001b[38;5;124m'\u001b[39m\u001b[38;5;124m7sem.csv\u001b[39m\u001b[38;5;124m'\u001b[39m, \u001b[38;5;124m'\u001b[39m\u001b[38;5;124mw\u001b[39m\u001b[38;5;124m'\u001b[39m, newline\u001b[38;5;241m=\u001b[39m\u001b[38;5;124m'\u001b[39m\u001b[38;5;124m'\u001b[39m) \u001b[38;5;28;01mas\u001b[39;00m outfile:\n",
      "\u001b[0;31mIndexError\u001b[0m: list index out of range"
     ]
    }
   ],
   "source": [
    "import csv\n",
    "\n",
    "# Read the CSV file\n",
    "with open('result7_sgpa.csv', 'r') as infile:\n",
    "    reader = csv.reader(infile)\n",
    "    data = list(reader)  # Convert the data into a list of lists\n",
    "\n",
    "# Sort the data based on the first column (index 0) as strings\n",
    "sorted_data = sorted(data, key=lambda x: x[0])\n",
    "\n",
    "# Save the sorted data to a new CSV file\n",
    "with open('7sem.csv', 'w', newline='') as outfile:\n",
    "    writer = csv.writer(outfile)\n",
    "    writer.writerows(sorted_data)\n",
    "\n",
    "print(\"CSV file sorted and saved as '7sem.csv'.\")\n"
   ]
  },
  {
   "cell_type": "code",
   "execution_count": 42,
   "metadata": {},
   "outputs": [
    {
     "name": "stdout",
     "output_type": "stream",
     "text": [
      "CSV file sorted and saved as '7sem.csv'.\n"
     ]
    }
   ],
   "source": [
    "import csv\n",
    "\n",
    "# Read the CSV file\n",
    "with open('New_Horizon_diploma.csv', 'r') as infile:\n",
    "    reader = csv.reader(infile)\n",
    "    data = list(reader)  # Convert the data into a list of lists\n",
    "\n",
    "# Sort the data based on the first column (index 0) as strings, while handling empty rows\n",
    "sorted_data = sorted(data, key=lambda x: x[0] if x and len(x) > 0 else '')\n",
    "\n",
    "# Save the sorted data to a new CSV file\n",
    "with open('NH-res-dip-sem7.csv', 'w', newline='') as outfile:\n",
    "    writer = csv.writer(outfile)\n",
    "    writer.writerows(sorted_data)\n",
    "\n",
    "print(\"CSV file sorted and saved as '7sem.csv'.\")\n"
   ]
  },
  {
   "cell_type": "code",
   "execution_count": 23,
   "metadata": {},
   "outputs": [
    {
     "name": "stdout",
     "output_type": "stream",
     "text": [
      "CSV file sorted by the second column in descending order and saved as '7sem.csv'.\n"
     ]
    }
   ],
   "source": [
    "import csv\n",
    "\n",
    "# Read the CSV file\n",
    "with open('result7_sgpa.csv', 'r') as infile:\n",
    "    reader = csv.reader(infile)\n",
    "    data = list(reader)  # Convert the data into a list of lists\n",
    "\n",
    "# Sort the data based on the second column (index 1), converting values to numeric types\n",
    "sorted_data = sorted(data, key=lambda x: float(x[1]) if x and len(x) > 1 else float('-inf'), reverse=True)\n",
    "\n",
    "# Save the sorted data to a new CSV file\n",
    "with open('7semTop.csv', 'w', newline='') as outfile:\n",
    "    writer = csv.writer(outfile)\n",
    "    writer.writerows(sorted_data)\n",
    "\n",
    "print(\"CSV file sorted by the second column in descending order and saved as '7sem.csv'.\")\n"
   ]
  }
 ],
 "metadata": {
  "kernelspec": {
   "display_name": "Python 3 (ipykernel)",
   "language": "python",
   "name": "python3"
  },
  "language_info": {
   "codemirror_mode": {
    "name": "ipython",
    "version": 3
   },
   "file_extension": ".py",
   "mimetype": "text/x-python",
   "name": "python",
   "nbconvert_exporter": "python",
   "pygments_lexer": "ipython3",
   "version": "3.9.18"
  }
 },
 "nbformat": 4,
 "nbformat_minor": 4
}
